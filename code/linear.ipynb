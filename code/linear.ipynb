{
 "cells": [
  {
   "cell_type": "markdown",
   "metadata": {
    "id": "uJJ01JiQGxVa"
   },
   "source": [
    "# EDA 및 Linear 총정리"
   ]
  },
  {
   "cell_type": "markdown",
   "metadata": {
    "id": "JLtjwoMIG1Z-"
   },
   "source": [
    "## EDA"
   ]
  },
  {
   "cell_type": "markdown",
   "metadata": {
    "id": "DLxlW0xXGlnM"
   },
   "source": [
    "### 구글 드라이브 연결 및 데이터 불러오기"
   ]
  },
  {
   "cell_type": "code",
   "execution_count": 1,
   "metadata": {
    "colab": {
     "base_uri": "https://localhost:8080/"
    },
    "id": "mdxZdtpuG7yo",
    "outputId": "ffe89771-f6e1-401b-8023-3480cbe0f3a1"
   },
   "outputs": [
    {
     "name": "stdout",
     "output_type": "stream",
     "text": [
      "Mounted at /content/drive\n"
     ]
    }
   ],
   "source": [
    "from google.colab import drive\n",
    "drive.mount(\"/content/drive\")"
   ]
  },
  {
   "cell_type": "markdown",
   "metadata": {
    "id": "-iDFH0aaIzeL"
   },
   "source": [
    "### 라이브러리 불러오기"
   ]
  },
  {
   "cell_type": "code",
   "execution_count": 3,
   "metadata": {
    "id": "CCKvzdr8I2p7"
   },
   "outputs": [],
   "source": [
    "import pandas as pd\n",
    "import numpy as np\n",
    "import matplotlib.pyplot as plt\n",
    "import seaborn as sns\n",
    "import os\n",
    "import missingno as msno\n",
    "\n",
    "from tqdm.notebook import tqdm\n",
    "from math import sqrt\n",
    "\n",
    "from sklearn.metrics import accuracy_score, precision_score , recall_score , confusion_matrix, roc_curve, roc_auc_score, f1_score\n",
    "from sklearn.preprocessing import StandardScaler, RobustScaler, MinMaxScaler\n",
    "from sklearn.model_selection import KFold, StratifiedKFold, train_test_split, GridSearchCV\n",
    "from sklearn.linear_model import Lasso,Ridge\n",
    "from sklearn.pipeline import Pipeline\n",
    "\n",
    "import lightgbm as lgbm\n",
    "from xgboost import XGBClassifier\n",
    "\n",
    "# from bayes_opt import BayesianOptimization  # 베이지안 최적화 라이브러리  \n",
    "from functools import partial #함수 고정"
   ]
  },
  {
   "cell_type": "markdown",
   "metadata": {
    "id": "V2ee8XReI3_H"
   },
   "source": [
    "### 파일 읽기 및 데이터 프레임 준비"
   ]
  },
  {
   "cell_type": "code",
   "execution_count": 4,
   "metadata": {
    "id": "fjy2cTZ7VQTj"
   },
   "outputs": [],
   "source": [
    "# variable의 col이름은 더미변수를 한 컬럼으로 다시 함친것이기 때문에 해당 변수의 이름이 다르다.\n",
    "def make_df(df_path, variables_path):\n",
    "    df = pd.read_pickle(df_path)\n",
    "    variables = pd.read_csv(variables_path)\n",
    "    \n",
    "    target_col = \"depvar\"\n",
    "    target_df = df[target_col]\n",
    "    use_col = variables.loc[variables[\"use_or_not\"] == \"use\" , \"columns\"]\n",
    "    use_df = df[use_col]\n",
    "    print(\"-\"*20, \"사용 변수 출력\", \"-\"*20)\n",
    "    for col in use_col:\n",
    "        print(f\"{col}: [{df.dtypes[col]} ,{len(df[col].unique())}]\")\n",
    "        print(list(variables.loc[variables[\"columns\"]==col, \"explain\"])[0])\n",
    "        print(\"-\"*50)\n",
    "    return use_df, target_df, use_col"
   ]
  },
  {
   "cell_type": "code",
   "execution_count": 5,
   "metadata": {
    "colab": {
     "base_uri": "https://localhost:8080/"
    },
    "id": "3AtET2GAVRMq",
    "outputId": "7f21a77c-d9b6-4875-9c81-624f21880259"
   },
   "outputs": [
    {
     "name": "stdout",
     "output_type": "stream",
     "text": [
      "-------------------- 사용 변수 출력 --------------------\n",
      "loan_amnt: [int32 ,1508]\n",
      "신청자가 신청한 대출 금액을 의미합니다. 만약 대출 심사 과정에서 대출 금액이 줄어들면, 이 값이 해당 금액으로 반영됩니다.\n",
      "--------------------------------------------------\n",
      "annual_inc: [float64 ,48059]\n",
      "등록 시 대출자가 제공한 자테 보고 연간소득\n",
      "--------------------------------------------------\n",
      "dti: [float64 ,4726]\n",
      "모기지 및 요청된 LC대출을 제외한 총 부체에 대한 차용인의 월별 부채 총액을 차용인의 자체 보고 월 소득으로 나누어 계산한 비율\n",
      "--------------------------------------------------\n",
      "delinq_2yrs: [int8 ,26]\n",
      "지난 2년간 대출자의 신용 파일에서 연체된 30일 이상의 건수\n",
      "--------------------------------------------------\n",
      "fico_range_low: [int16 ,38]\n",
      "대출 발행 시점에 차용인의 Fico(신용점수)가 속하는 하한 범위 (min: 660, fair / max: 845, excellent)\n",
      "--------------------------------------------------\n",
      "fico_range_high: [int16 ,38]\n",
      "대출 발행 시점에 차용인의 Fico(신용점수)가 속하는 상한 범위 (min: 664, fair / max: 850, excellent)\n",
      "--------------------------------------------------\n",
      "inq_last_6mths: [int8 ,9]\n",
      "최근 6개월간 조회(inquiry)건수(자동차 및 주택담보대출 조회 제외). inquiry는 돈을 빌리거나 할 때 이루어진다. hard inquiry는 신용등급에 영향을 주며 2년간 기록이 사라지지 않는다. soft inquiry는 스스로 credit report를 조회하는 것을 이른다.\n",
      "--------------------------------------------------\n",
      "open_acc: [int16 ,75]\n",
      "The number of open credit lines in the borrower's credit file. (한도가 정해진 사전 협의 대출 계약의 수)\n",
      "--------------------------------------------------\n",
      "pub_rec: [int8 ,34]\n",
      "derogatory public record(채무불이행, 연체, 파산 기록 등)의 수\n",
      "--------------------------------------------------\n",
      "revol_util: [float64 ,1255]\n",
      "Revolving line utilization rate, or the amount of credit the borrower is using relative to all available revolving credit. (총 신용 한도 중 현재까지 사용한 금액의 비율, 20~25%면 적절하다고 함. 높을수록 빌려주는 사람의 부담 증가)\n",
      "--------------------------------------------------\n",
      "last_fico_range_high: [int16 ,72]\n",
      "(가장 최근 credit inquiry 시) 신용 조회 당시 최고 FICO score(범위) FICO - Fair Isaac Corporation 대출기관에서 채점한 고객의 신용점수 표준  실제 은행에서 위험성을 계산하는데 많이 쓰이는 변수이다. 신용기간, 대출금액등 여러요소가 FICO score 에 포함된다.\n",
      "--------------------------------------------------\n",
      "last_fico_range_low: [int16 ,71]\n",
      "신용 조회 당시 최저 FICO score(범위)\n",
      "--------------------------------------------------\n",
      "acc_now_delinq: [int8 ,8]\n",
      "대출 신청자가 현재 체납중인 대출계과 개수\n",
      "--------------------------------------------------\n",
      "tot_cur_bal: [int32 ,331855]\n",
      "모든 계좌의 현재 총 잔액.\n",
      "--------------------------------------------------\n",
      "chargeoff_within_12_mths: [int8 ,10]\n",
      "2차 대출시 , 지난 12개월동아 차주가 대출 상환을 하지 못하고 대출 채권을 포기한 횟수.\n",
      "--------------------------------------------------\n",
      "delinq_amnt: [int32 ,1591]\n",
      "대출 신청자가 현재 체납중인 금액\n",
      "--------------------------------------------------\n",
      "pub_rec_bankruptcies: [int8 ,11]\n",
      "공식적인 파산 수?\n",
      "--------------------------------------------------\n",
      "tax_liens: [int8 ,34]\n",
      "세금 체납 횟수\n",
      "--------------------------------------------------\n",
      "home_ownership: [float64 ,6]\n",
      "등록 시 차용인이 제공한 주택 소유 상태. (1:any, 2: mortgage, 3:none, 4: other, 5: own, 6: rent)\n",
      "--------------------------------------------------\n",
      "verification_status: [float64 ,3]\n",
      "소득이 LC에 의해 확인되었는지, 확인되지 않았는지 또는 소득원이 확인되었는지를 나타낸다.(1, 2, 3)\n",
      "--------------------------------------------------\n",
      "purpose: [float64 ,14]\n",
      "대출자가 제공한 대출 요청의 목적 범주(14개) 한국 논문에서는 독립변수로 사용함 (1: car, 2: credit card, 3: debt consolidation, 4:educational,, 5: home improvement, 6:house, 7: major purchase, 8: medial , 9:moving, 10: other, 11: renewable energy, 12: small business, 13: vacation, 14: wedding)\n",
      "--------------------------------------------------\n",
      "emp_length: [float64 ,12]\n",
      "0부터 10까지의 고용기간 0은 1년미만, 10은 10년이상으로 측정 ()\n",
      "--------------------------------------------------\n"
     ]
    }
   ],
   "source": [
    "df_path = \"/content/drive/MyDrive/함께하조/data/datacompression_lendingclub.pkl\"\n",
    "variables_path = \"/content/drive/MyDrive/함께하조/data/variable_use.csv\"\n",
    "\n",
    "### 사용 변수 출력\n",
    "use_df, target_df, use_col = make_df(df_path, variables_path)"
   ]
  },
  {
   "cell_type": "markdown",
   "metadata": {
    "id": "AZwhuevnVUhx"
   },
   "source": [
    "### 변수끼리의 상관관계 계수(다중 공산성 확인) 및 히트맵 표시"
   ]
  },
  {
   "cell_type": "code",
   "execution_count": 9,
   "metadata": {
    "colab": {
     "base_uri": "https://localhost:8080/",
     "height": 407
    },
    "id": "DyUq5q2hVgY4",
    "outputId": "5d4da383-ddaa-4039-e365-640b5b2443b5"
   },
   "outputs": [
    {
     "data": {
      "text/plain": [
       "<AxesSubplot:>"
      ]
     },
     "execution_count": 9,
     "metadata": {},
     "output_type": "execute_result"
    },
    {
     "data": {
      "image/png": "[encoded data removed]",
      "text/plain": [
       "<Figure size 432x288 with 2 Axes>"
      ]
     },
     "metadata": {
      "needs_background": "light"
     },
     "output_type": "display_data"
    }
   ],
   "source": [
    "sns.heatmap(use_df.corr())"
   ]
  },
  {
   "cell_type": "code",
   "execution_count": 10,
   "metadata": {
    "id": "wiUi1gr0VniB"
   },
   "outputs": [],
   "source": [
    "# last ficon range, fico score의 높은 상관관계를 확인할수 있었다.\n"
   ]
  },
  {
   "cell_type": "markdown",
   "metadata": {
    "id": "vJuByILxWMaU"
   },
   "source": [
    "### 변수 전처리 및 열연산"
   ]
  },
  {
   "cell_type": "code",
   "execution_count": null,
   "metadata": {
    "id": "VgtkvBDsV0bH"
   },
   "outputs": [],
   "source": [
    "# fico 를 평규내어 열하나로 통합"
   ]
  },
  {
   "cell_type": "code",
   "execution_count": 11,
   "metadata": {
    "colab": {
     "base_uri": "https://localhost:8080/",
     "height": 297
    },
    "id": "WilBcw6EVyf4",
    "outputId": "1c3407f6-b9d4-4a7e-cb7c-014036851266"
   },
   "outputs": [
    {
     "data": {
      "text/html": [
       "\n",
       "  <div id=\"df-29b1567c-b292-4ad1-acf5-e332f8bcc182\">\n",
       "    <div class=\"colab-df-container\">\n",
       "      <div>\n",
       "<style scoped>\n",
       "    .dataframe tbody tr th:only-of-type {\n",
       "        vertical-align: middle;\n",
       "    }\n",
       "\n",
       "    .dataframe tbody tr th {\n",
       "        vertical-align: top;\n",
       "    }\n",
       "\n",
       "    .dataframe thead th {\n",
       "        text-align: right;\n",
       "    }\n",
       "</style>\n",
       "<table border=\"1\" class=\"dataframe\">\n",
       "  <thead>\n",
       "    <tr style=\"text-align: right;\">\n",
       "      <th></th>\n",
       "      <th>loan_amnt</th>\n",
       "      <th>annual_inc</th>\n",
       "      <th>dti</th>\n",
       "      <th>delinq_2yrs</th>\n",
       "      <th>inq_last_6mths</th>\n",
       "      <th>open_acc</th>\n",
       "      <th>pub_rec</th>\n",
       "      <th>revol_util</th>\n",
       "      <th>last_fico_range_high</th>\n",
       "      <th>last_fico_range_low</th>\n",
       "      <th>...</th>\n",
       "      <th>tot_cur_bal</th>\n",
       "      <th>chargeoff_within_12_mths</th>\n",
       "      <th>delinq_amnt</th>\n",
       "      <th>pub_rec_bankruptcies</th>\n",
       "      <th>tax_liens</th>\n",
       "      <th>home_ownership</th>\n",
       "      <th>verification_status</th>\n",
       "      <th>purpose</th>\n",
       "      <th>emp_length</th>\n",
       "      <th>fico_average</th>\n",
       "    </tr>\n",
       "  </thead>\n",
       "  <tbody>\n",
       "    <tr>\n",
       "      <th>0</th>\n",
       "      <td>12000</td>\n",
       "      <td>90641.0</td>\n",
       "      <td>10.20</td>\n",
       "      <td>0</td>\n",
       "      <td>1</td>\n",
       "      <td>5</td>\n",
       "      <td>0</td>\n",
       "      <td>0.405</td>\n",
       "      <td>584</td>\n",
       "      <td>580</td>\n",
       "      <td>...</td>\n",
       "      <td>27898</td>\n",
       "      <td>0</td>\n",
       "      <td>0</td>\n",
       "      <td>0</td>\n",
       "      <td>0</td>\n",
       "      <td>6.0</td>\n",
       "      <td>1.0</td>\n",
       "      <td>3.0</td>\n",
       "      <td>2.0</td>\n",
       "      <td>692.0</td>\n",
       "    </tr>\n",
       "    <tr>\n",
       "      <th>1</th>\n",
       "      <td>14000</td>\n",
       "      <td>46000.0</td>\n",
       "      <td>17.40</td>\n",
       "      <td>1</td>\n",
       "      <td>0</td>\n",
       "      <td>9</td>\n",
       "      <td>0</td>\n",
       "      <td>0.664</td>\n",
       "      <td>724</td>\n",
       "      <td>720</td>\n",
       "      <td>...</td>\n",
       "      <td>19286</td>\n",
       "      <td>0</td>\n",
       "      <td>0</td>\n",
       "      <td>0</td>\n",
       "      <td>0</td>\n",
       "      <td>6.0</td>\n",
       "      <td>1.0</td>\n",
       "      <td>3.0</td>\n",
       "      <td>2.0</td>\n",
       "      <td>672.0</td>\n",
       "    </tr>\n",
       "    <tr>\n",
       "      <th>2</th>\n",
       "      <td>24000</td>\n",
       "      <td>90000.0</td>\n",
       "      <td>11.73</td>\n",
       "      <td>2</td>\n",
       "      <td>0</td>\n",
       "      <td>6</td>\n",
       "      <td>0</td>\n",
       "      <td>0.474</td>\n",
       "      <td>684</td>\n",
       "      <td>680</td>\n",
       "      <td>...</td>\n",
       "      <td>324923</td>\n",
       "      <td>0</td>\n",
       "      <td>0</td>\n",
       "      <td>0</td>\n",
       "      <td>0</td>\n",
       "      <td>2.0</td>\n",
       "      <td>2.0</td>\n",
       "      <td>3.0</td>\n",
       "      <td>6.0</td>\n",
       "      <td>662.0</td>\n",
       "    </tr>\n",
       "    <tr>\n",
       "      <th>3</th>\n",
       "      <td>14000</td>\n",
       "      <td>115000.0</td>\n",
       "      <td>7.31</td>\n",
       "      <td>0</td>\n",
       "      <td>1</td>\n",
       "      <td>16</td>\n",
       "      <td>0</td>\n",
       "      <td>0.401</td>\n",
       "      <td>639</td>\n",
       "      <td>635</td>\n",
       "      <td>...</td>\n",
       "      <td>16451</td>\n",
       "      <td>0</td>\n",
       "      <td>0</td>\n",
       "      <td>0</td>\n",
       "      <td>0</td>\n",
       "      <td>6.0</td>\n",
       "      <td>2.0</td>\n",
       "      <td>2.0</td>\n",
       "      <td>5.0</td>\n",
       "      <td>662.0</td>\n",
       "    </tr>\n",
       "    <tr>\n",
       "      <th>4</th>\n",
       "      <td>14000</td>\n",
       "      <td>78000.0</td>\n",
       "      <td>24.32</td>\n",
       "      <td>0</td>\n",
       "      <td>2</td>\n",
       "      <td>17</td>\n",
       "      <td>0</td>\n",
       "      <td>0.534</td>\n",
       "      <td>709</td>\n",
       "      <td>705</td>\n",
       "      <td>...</td>\n",
       "      <td>105053</td>\n",
       "      <td>0</td>\n",
       "      <td>0</td>\n",
       "      <td>0</td>\n",
       "      <td>0</td>\n",
       "      <td>6.0</td>\n",
       "      <td>2.0</td>\n",
       "      <td>3.0</td>\n",
       "      <td>4.0</td>\n",
       "      <td>687.0</td>\n",
       "    </tr>\n",
       "  </tbody>\n",
       "</table>\n",
       "<p>5 rows × 21 columns</p>\n",
       "</div>\n",
       "      <button class=\"colab-df-convert\" onclick=\"convertToInteractive('df-29b1567c-b292-4ad1-acf5-e332f8bcc182')\"\n",
       "              title=\"Convert this dataframe to an interactive table.\"\n",
       "              style=\"display:none;\">\n",
       "        \n",
       "  <svg xmlns=\"http://www.w3.org/2000/svg\" height=\"24px\"viewBox=\"0 0 24 24\"\n",
       "       width=\"24px\">\n",
       "    <path d=\"M0 0h24v24H0V0z\" fill=\"none\"/>\n",
       "    <path d=\"M18.56 5.44l.94 2.06.94-2.06 2.06-.94-2.06-.94-.94-2.06-.94 2.06-2.06.94zm-11 1L8.5 8.5l.94-2.06 2.06-.94-2.06-.94L8.5 2.5l-.94 2.06-2.06.94zm10 10l.94 2.06.94-2.06 2.06-.94-2.06-.94-.94-2.06-.94 2.06-2.06.94z\"/><path d=\"M17.41 7.96l-1.37-1.37c-.4-.4-.92-.59-1.43-.59-.52 0-1.04.2-1.43.59L10.3 9.45l-7.72 7.72c-.78.78-.78 2.05 0 2.83L4 21.41c.39.39.9.59 1.41.59.51 0 1.02-.2 1.41-.59l7.78-7.78 2.81-2.81c.8-.78.8-2.07 0-2.86zM5.41 20L4 18.59l7.72-7.72 1.47 1.35L5.41 20z\"/>\n",
       "  </svg>\n",
       "      </button>\n",
       "      \n",
       "  <style>\n",
       "    .colab-df-container {\n",
       "      display:flex;\n",
       "      flex-wrap:wrap;\n",
       "      gap: 12px;\n",
       "    }\n",
       "\n",
       "    .colab-df-convert {\n",
       "      background-color: #E8F0FE;\n",
       "      border: none;\n",
       "      border-radius: 50%;\n",
       "      cursor: pointer;\n",
       "      display: none;\n",
       "      fill: #1967D2;\n",
       "      height: 32px;\n",
       "      padding: 0 0 0 0;\n",
       "      width: 32px;\n",
       "    }\n",
       "\n",
       "    .colab-df-convert:hover {\n",
       "      background-color: #E2EBFA;\n",
       "      box-shadow: 0px 1px 2px rgba(60, 64, 67, 0.3), 0px 1px 3px 1px rgba(60, 64, 67, 0.15);\n",
       "      fill: #174EA6;\n",
       "    }\n",
       "\n",
       "    [theme=dark] .colab-df-convert {\n",
       "      background-color: #3B4455;\n",
       "      fill: #D2E3FC;\n",
       "    }\n",
       "\n",
       "    [theme=dark] .colab-df-convert:hover {\n",
       "      background-color: #434B5C;\n",
       "      box-shadow: 0px 1px 3px 1px rgba(0, 0, 0, 0.15);\n",
       "      filter: drop-shadow(0px 1px 2px rgba(0, 0, 0, 0.3));\n",
       "      fill: #FFFFFF;\n",
       "    }\n",
       "  </style>\n",
       "\n",
       "      <script>\n",
       "        const buttonEl =\n",
       "          document.querySelector('#df-29b1567c-b292-4ad1-acf5-e332f8bcc182 button.colab-df-convert');\n",
       "        buttonEl.style.display =\n",
       "          google.colab.kernel.accessAllowed ? 'block' : 'none';\n",
       "\n",
       "        async function convertToInteractive(key) {\n",
       "          const element = document.querySelector('#df-29b1567c-b292-4ad1-acf5-e332f8bcc182');\n",
       "          const dataTable =\n",
       "            await google.colab.kernel.invokeFunction('convertToInteractive',\n",
       "                                                     [key], {});\n",
       "          if (!dataTable) return;\n",
       "\n",
       "          const docLinkHtml = 'Like what you see? Visit the ' +\n",
       "            '<a target=\"_blank\" href=https://colab.research.google.com/notebooks/data_table.ipynb>data table notebook</a>'\n",
       "            + ' to learn more about interactive tables.';\n",
       "          element.innerHTML = '';\n",
       "          dataTable['output_type'] = 'display_data';\n",
       "          await google.colab.output.renderOutput(dataTable, element);\n",
       "          const docLink = document.createElement('div');\n",
       "          docLink.innerHTML = docLinkHtml;\n",
       "          element.appendChild(docLink);\n",
       "        }\n",
       "      </script>\n",
       "    </div>\n",
       "  </div>\n",
       "  "
      ],
      "text/plain": [
       "   loan_amnt  annual_inc    dti  delinq_2yrs  inq_last_6mths  open_acc  \\\n",
       "0      12000     90641.0  10.20            0               1         5   \n",
       "1      14000     46000.0  17.40            1               0         9   \n",
       "2      24000     90000.0  11.73            2               0         6   \n",
       "3      14000    115000.0   7.31            0               1        16   \n",
       "4      14000     78000.0  24.32            0               2        17   \n",
       "\n",
       "   pub_rec  revol_util  last_fico_range_high  last_fico_range_low  ...  \\\n",
       "0        0       0.405                   584                  580  ...   \n",
       "1        0       0.664                   724                  720  ...   \n",
       "2        0       0.474                   684                  680  ...   \n",
       "3        0       0.401                   639                  635  ...   \n",
       "4        0       0.534                   709                  705  ...   \n",
       "\n",
       "   tot_cur_bal  chargeoff_within_12_mths  delinq_amnt  pub_rec_bankruptcies  \\\n",
       "0        27898                         0            0                     0   \n",
       "1        19286                         0            0                     0   \n",
       "2       324923                         0            0                     0   \n",
       "3        16451                         0            0                     0   \n",
       "4       105053                         0            0                     0   \n",
       "\n",
       "   tax_liens  home_ownership  verification_status  purpose  emp_length  \\\n",
       "0          0             6.0                  1.0      3.0         2.0   \n",
       "1          0             6.0                  1.0      3.0         2.0   \n",
       "2          0             2.0                  2.0      3.0         6.0   \n",
       "3          0             6.0                  2.0      2.0         5.0   \n",
       "4          0             6.0                  2.0      3.0         4.0   \n",
       "\n",
       "   fico_average  \n",
       "0         692.0  \n",
       "1         672.0  \n",
       "2         662.0  \n",
       "3         662.0  \n",
       "4         687.0  \n",
       "\n",
       "[5 rows x 21 columns]"
      ]
     },
     "execution_count": 11,
     "metadata": {},
     "output_type": "execute_result"
    }
   ],
   "source": [
    "## fico average column 생성, column drop\n",
    "use_df[\"fico_average\"] = (use_df[\"fico_range_high\"] + use_df[\"fico_range_low\"])/2\n",
    "use_df.drop([\"fico_range_high\", \"fico_range_low\"], axis=1, inplace=True)\n",
    "use_df.head()"
   ]
  },
  {
   "cell_type": "code",
   "execution_count": 12,
   "metadata": {
    "id": "JqPXPvPVVzOR"
   },
   "outputs": [],
   "source": [
    "## logistic regression (ridge, lasso)의 모델을을 돌려야하므로 카테고리 변수에 대해\n",
    "# 원핫 인코딩 진행\n",
    "\n",
    "cat_col = [\"home_ownership\", \"verification_status\", \"purpose\"]\n",
    "use_df = pd.get_dummies(use_df, columns=cat_col, drop_first = True)"
   ]
  },
  {
   "cell_type": "code",
   "execution_count": 13,
   "metadata": {
    "id": "cpuqgXC2WFPu"
   },
   "outputs": [],
   "source": [
    "## emp_length 변경\n",
    "\n",
    "length = [[1, 1], [2, 10], [3, 2], [4, 3], [5, 4], [6, 5], [7, 6], [8, 7], [9, 8], [10, 9], [11, 0], [12, -1]]\n",
    "use_df[\"new_emp_length\"] = np.nan*use_df.shape[0]\n",
    "\n",
    "for i in length:\n",
    "    num, value = i[0], i[1]\n",
    "    use_df.loc[use_df[\"emp_length\"]==num, \"new_emp_length\"] = value\n",
    "    # print(num, value)\n",
    "    # print(use_df[\"new_emp_length\"].value_counts())\n",
    "    # print(\"-\"*40)\n",
    "\n",
    "use_df.drop([\"emp_length\"], axis=1, inplace=True)"
   ]
  },
  {
   "cell_type": "code",
   "execution_count": 14,
   "metadata": {
    "colab": {
     "base_uri": "https://localhost:8080/"
    },
    "id": "3B2ZuVl-WVSD",
    "outputId": "8bbde8fb-459f-4033-c22a-59b46e58726e"
   },
   "outputs": [
    {
     "name": "stdout",
     "output_type": "stream",
     "text": [
      "<class 'pandas.core.frame.DataFrame'>\n",
      "Int64Index: 874335 entries, 0 to 874334\n",
      "Data columns (total 38 columns):\n",
      " #   Column                    Non-Null Count   Dtype  \n",
      "---  ------                    --------------   -----  \n",
      " 0   loan_amnt                 874335 non-null  int32  \n",
      " 1   annual_inc                874335 non-null  float64\n",
      " 2   dti                       874335 non-null  float64\n",
      " 3   delinq_2yrs               874335 non-null  int8   \n",
      " 4   inq_last_6mths            874335 non-null  int8   \n",
      " 5   open_acc                  874335 non-null  int16  \n",
      " 6   pub_rec                   874335 non-null  int8   \n",
      " 7   revol_util                874335 non-null  float64\n",
      " 8   last_fico_range_high      874335 non-null  int16  \n",
      " 9   last_fico_range_low       874335 non-null  int16  \n",
      " 10  acc_now_delinq            874335 non-null  int8   \n",
      " 11  tot_cur_bal               874335 non-null  int32  \n",
      " 12  chargeoff_within_12_mths  874335 non-null  int8   \n",
      " 13  delinq_amnt               874335 non-null  int32  \n",
      " 14  pub_rec_bankruptcies      874335 non-null  int8   \n",
      " 15  tax_liens                 874335 non-null  int8   \n",
      " 16  fico_average              874335 non-null  float64\n",
      " 17  home_ownership_2.0        874335 non-null  uint8  \n",
      " 18  home_ownership_3.0        874335 non-null  uint8  \n",
      " 19  home_ownership_4.0        874335 non-null  uint8  \n",
      " 20  home_ownership_5.0        874335 non-null  uint8  \n",
      " 21  home_ownership_6.0        874335 non-null  uint8  \n",
      " 22  verification_status_2.0   874335 non-null  uint8  \n",
      " 23  verification_status_3.0   874335 non-null  uint8  \n",
      " 24  purpose_2.0               874335 non-null  uint8  \n",
      " 25  purpose_3.0               874335 non-null  uint8  \n",
      " 26  purpose_4.0               874335 non-null  uint8  \n",
      " 27  purpose_5.0               874335 non-null  uint8  \n",
      " 28  purpose_6.0               874335 non-null  uint8  \n",
      " 29  purpose_7.0               874335 non-null  uint8  \n",
      " 30  purpose_8.0               874335 non-null  uint8  \n",
      " 31  purpose_9.0               874335 non-null  uint8  \n",
      " 32  purpose_10.0              874335 non-null  uint8  \n",
      " 33  purpose_11.0              874335 non-null  uint8  \n",
      " 34  purpose_12.0              874335 non-null  uint8  \n",
      " 35  purpose_13.0              874335 non-null  uint8  \n",
      " 36  purpose_14.0              874335 non-null  uint8  \n",
      " 37  new_emp_length            874335 non-null  float64\n",
      "dtypes: float64(5), int16(3), int32(3), int8(7), uint8(20)\n",
      "memory usage: 77.5 MB\n"
     ]
    }
   ],
   "source": [
    "use_df.info() # null값 개수 확인"
   ]
  },
  {
   "cell_type": "markdown",
   "metadata": {
    "id": "KuO6fdziWZP4"
   },
   "source": [
    "### 데이터 준비(train, test split)"
   ]
  },
  {
   "cell_type": "code",
   "execution_count": 15,
   "metadata": {
    "id": "ud7uJSJvWgOu"
   },
   "outputs": [],
   "source": [
    "def train_test(use_df, target_df, test_size=0.2, random_state=2023):\n",
    "    x_train, x_test, y_train, y_test = train_test_split(use_df, target_df, test_size=test_size, random_state=random_state, stratify=target_df)\n",
    "\n",
    "    # k-fold 사용해주기 위해서 (x_train, y_train) index 다시 설정\n",
    "    x_train.reset_index(drop=True, inplace=True)\n",
    "    y_train.reset_index(drop=True, inplace=True)\n",
    "\n",
    "    #test_size 확인\n",
    "    print(f\"test_size: {x_test.shape[0]/use_df.shape[0]*100}%\")\n",
    "\n",
    "    #shape 확인\n",
    "    print(\"x_train.shape: \", x_train.shape)\n",
    "    print(\"x_test.shape: \", x_test.shape)\n",
    "    print(\"y_train.shape: \", y_train.shape)\n",
    "    print(\"y_test.shape: \", y_test.shape)\n",
    "\n",
    "    #train, test 클래스 비율 확인\n",
    "    print(f\"train positive 비율: {pd.Series(y_train).value_counts()[1]/len(pd.Series(y_train))}\")\n",
    "    print(f\"test positive 비율: {pd.Series(y_test).value_counts()[1]/len(pd.Series(y_test))}\")\n",
    "\n",
    "    return x_train, x_test, y_train, y_test"
   ]
  },
  {
   "cell_type": "code",
   "execution_count": 17,
   "metadata": {
    "id": "3ewN3qmMWiXZ"
   },
   "outputs": [],
   "source": [
    "## 랜덤시드 고정\n",
    "np.random.seed(2023)"
   ]
  },
  {
   "cell_type": "code",
   "execution_count": 18,
   "metadata": {
    "colab": {
     "base_uri": "https://localhost:8080/"
    },
    "id": "S1ZD7sNpW7AE",
    "outputId": "0b002707-60ee-4d18-ac59-67b59d277360"
   },
   "outputs": [
    {
     "name": "stdout",
     "output_type": "stream",
     "text": [
      "test_size: 20.0%\n",
      "x_train.shape:  (699468, 38)\n",
      "x_test.shape:  (174867, 38)\n",
      "y_train.shape:  (699468,)\n",
      "y_test.shape:  (174867,)\n",
      "train positive 비율: 0.16204601211206232\n",
      "test positive 비율: 0.16204887142799956\n"
     ]
    }
   ],
   "source": [
    "## 데이터 분포 비율 -> 테스트 0.2 \n",
    "\n",
    "x_train, x_test, y_train, y_test = train_test(use_df, target_df, test_size=0.2)"
   ]
  },
  {
   "cell_type": "markdown",
   "metadata": {
    "id": "4UuXozb1XDL1"
   },
   "source": [
    "## Grid Search Pipeline"
   ]
  },
  {
   "cell_type": "code",
   "execution_count": 20,
   "metadata": {
    "id": "YDs-GAGJXUSS"
   },
   "outputs": [],
   "source": [
    "def run_grid(x_train, y_train, param_grid, fit_params=None, randomstate=2023):\n",
    "    \n",
    "    pipe = Pipeline([(\"preprocessing\", None), (\"classifier\", None)])\n",
    "    kfold = StratifiedKFold(n_splits=5, shuffle=True, random_state=randomstate)\n",
    "    grid_search = GridSearchCV(pipe, param_grid, scoring=['roc_auc'], refit=\"roc_auc\", cv=kfold)                                                                                                                       \n",
    "    grid_search.fit(x_train, y_train)\n",
    "\n",
    "    # print(\"BEST score on validation set: {0:,2f}\".format(grid_search.best_score_))\n",
    "    # print(\"BEST hyperparameters: {}\".format(grid_search.best_params_))\n",
    "\n",
    "    return grid_search"
   ]
  },
  {
   "cell_type": "markdown",
   "metadata": {
    "id": "IL8kXQ2YYf_z"
   },
   "source": [
    "## roc_auc curve drawing function"
   ]
  },
  {
   "cell_type": "code",
   "execution_count": 23,
   "metadata": {
    "id": "_7M1qN5yYkpw"
   },
   "outputs": [],
   "source": [
    "def new_conf(y, y_pred):\n",
    "    real_pos_portion = confusion_matrix(y, y_pred)[0]/sum(confusion_matrix(y, y_pred)[0])\n",
    "    real_neg_portion = confusion_matrix(y, y_pred)[1]/sum(confusion_matrix(y, y_pred)[1])\n",
    "    return np.array([real_pos_portion, real_neg_portion])\n",
    "\n",
    "def draw_cfmatrix(y, y_pred):\n",
    "    cf_matrix = confusion_matrix(y, y_pred)\n",
    "    group_names = [\"Fullfill -> Fullfill\", \"Fullfill -> Charge off\", \"Charge off -> Fullfill\", \"Charge off -> Charge off\"]\n",
    "    group_counts = [\"count: {0:0.0f}\".format(value) for value in cf_matrix.flatten()]\n",
    "\n",
    "    #여기서 새로운 cf matrix 적용\n",
    "    cf_matrix = new_conf(y, y_pred)\n",
    "    group_percentages = [\"{0:.2%}\".format(value) for value in cf_matrix.flatten()]\n",
    "    labels = [f\"{v1}\\n{v2}\\n{v3}\" for v1, v2, v3 in zip(group_names,group_counts,group_percentages)]\n",
    "    labels = np.asarray(labels).reshape(2,2)\n",
    "    ax = sns.heatmap(cf_matrix, annot=labels, fmt=\"\", cmap='Blues')\n",
    "    ax.set(xlabel=\"predict class\", ylabel=\"real class\") #원래는 ax였음\n",
    "    plt.show()\n",
    "\n",
    "def plot_roc(y, y_pred_proba):\n",
    "    fpr, tpr, thresholds = roc_curve(y, y_pred_proba) # output 3개가 나오는데, 각 threshhold 마다의 fpr, tpr값 인듯\n",
    "    plt.plot(fpr, tpr, color='red', label='ROC')\n",
    "    plt.plot([0, 1], [0, 1], color='green', linestyle='--')\n",
    "    plt.xlabel('False Positive Rate')\n",
    "    plt.ylabel('True Positive Rate')\n",
    "    plt.title('test ROC : {}'.format(round(roc_auc_score(y, y_pred_proba),3)),fontsize=16)\n",
    "    plt.legend()\n",
    "    plt.show()\n",
    "\n",
    "def get_clf_eval(y , y_pred, y_pred_proba=None):\n",
    "    confusion = confusion_matrix( y, y_pred)\n",
    "    accuracy = accuracy_score(y , y_pred)\n",
    "    precision = precision_score(y , y_pred)\n",
    "    recall = recall_score(y , y_pred)\n",
    "    roc_auc = roc_auc_score(y, y_pred_proba)\n",
    "\n",
    "    print('오차 행렬')\n",
    "    draw_cfmatrix(y , y_pred)\n",
    "    print(\"ROC Curve\")\n",
    "    plot_roc(y, y_pred_proba)\n",
    "    print('정확도: {0:.4f}, 정밀도: {1:.4f}, 재현율: {2:.4f}, roc_auc: {3:.4f}'.format(accuracy , precision ,recall, roc_auc))"
   ]
  },
  {
   "cell_type": "markdown",
   "metadata": {
    "id": "riA3lj1hXiCo"
   },
   "source": [
    "## CLassifier 성능 비교"
   ]
  },
  {
   "cell_type": "markdown",
   "metadata": {
    "id": "bG5AoP1_Xpff"
   },
   "source": [
    "### LAsso"
   ]
  },
  {
   "cell_type": "code",
   "execution_count": 21,
   "metadata": {
    "colab": {
     "base_uri": "https://localhost:8080/"
    },
    "id": "at9eJL80Xriq",
    "outputId": "00234f11-cf81-47d5-b5b1-c641dffd1664"
   },
   "outputs": [
    {
     "name": "stdout",
     "output_type": "stream",
     "text": [
      "best_score: 0.9233460115335065\n",
      " best params : {'classifier': Lasso(alpha=0.001, max_iter=100), 'classifier__alpha': 0.001, 'classifier__max_iter': 100, 'preprocessing': StandardScaler()}\n"
     ]
    }
   ],
   "source": [
    "from sklearn.linear_model import Lasso,Ridge\n",
    "\n",
    "param_grid = {\n",
    "    'preprocessing': [StandardScaler(), RobustScaler(), MinMaxScaler()],\n",
    "    'classifier': [Lasso()],\n",
    "    'classifier__max_iter': [100, 500, 1000],\n",
    "    'classifier__alpha': [0.1, 0.01, 0.001, 0.0001],\n",
    "}\n",
    "\n",
    "best_model = run_grid(x_train, y_train, param_grid)\n",
    "print(f'best_score: {best_model.best_score_}\\n best params : {best_model.best_params_}')"
   ]
  },
  {
   "cell_type": "markdown",
   "metadata": {
    "id": "Fm60sktHYID6"
   },
   "source": [
    "학습된 파라미터로 다시 재학습"
   ]
  },
  {
   "cell_type": "code",
   "execution_count": 22,
   "metadata": {
    "id": "J9qzqll4YMwe"
   },
   "outputs": [],
   "source": [
    "sc = StandardScaler()\n",
    "x_scale = sc.fit_transform(x_train)\n",
    "\n",
    "model = Lasso(alpha = 0.001,max_iter = 100)\n",
    "model.fit(x_scale,y_train)\n",
    "\n",
    "x_test_scale = sc.transform(x_test)\n",
    "y_pred_proba = model.predict(x_test_scale)\n",
    "y_pred = np.where(y_pred_proba>=0.5,1,0)"
   ]
  },
  {
   "cell_type": "markdown",
   "metadata": {
    "id": "baI7ZW7QYehU"
   },
   "source": [
    "roc_auc curve 그래프 확인 및 다른 지표 확인"
   ]
  },
  {
   "cell_type": "code",
   "execution_count": 24,
   "metadata": {
    "colab": {
     "base_uri": "https://localhost:8080/",
     "height": 610
    },
    "id": "2uQIFjzYZ228",
    "outputId": "d18c2d82-dcdc-4bb1-9463-b55e4adc3d00"
   },
   "outputs": [
    {
     "name": "stdout",
     "output_type": "stream",
     "text": [
      "오차 행렬\n"
     ]
    },
    {
     "data": {
      "image/png": "[encoded data removed]",
      "text/plain": [
       "<Figure size 432x288 with 2 Axes>"
      ]
     },
     "metadata": {
      "needs_background": "light"
     },
     "output_type": "display_data"
    },
    {
     "name": "stdout",
     "output_type": "stream",
     "text": [
      "ROC Curve\n"
     ]
    },
    {
     "data": {
      "image/png": "[encoded data removed]",
      "text/plain": [
       "<Figure size 432x288 with 1 Axes>"
      ]
     },
     "metadata": {
      "needs_background": "light"
     },
     "output_type": "display_data"
    },
    {
     "name": "stdout",
     "output_type": "stream",
     "text": [
      "정확도: 0.8770, 정밀도: 0.7148, 재현율: 0.4008, roc_auc: 0.9231\n"
     ]
    }
   ],
   "source": [
    "get_clf_eval(y_test , y_pred, y_pred_proba)"
   ]
  },
  {
   "cell_type": "markdown",
   "metadata": {
    "id": "yqGA1wloYUq2"
   },
   "source": [
    "coefficient 계수 확인"
   ]
  },
  {
   "cell_type": "code",
   "execution_count": 25,
   "metadata": {
    "colab": {
     "base_uri": "https://localhost:8080/"
    },
    "id": "D3BC6ocqYZw2",
    "outputId": "b8bfeade-b096-4f92-b731-68986323f2b0"
   },
   "outputs": [
    {
     "name": "stdout",
     "output_type": "stream",
     "text": [
      "Lasso 모델 계수\n",
      "------------------------------\n",
      "loan_amnt  -> 0.0316\n",
      "annual_inc  -> -0.0022\n",
      "dti  -> 0.0144\n",
      "delinq_2yrs  -> -0.0039\n",
      "inq_last_6mths  -> 0.0040\n",
      "open_acc  -> 0.0000\n",
      "pub_rec  -> 0.0000\n",
      "revol_util  -> -0.0097\n",
      "last_fico_range_high  -> -0.1901\n",
      "last_fico_range_low  -> -0.0380\n",
      "acc_now_delinq  -> 0.0001\n",
      "tot_cur_bal  -> -0.0090\n",
      "chargeoff_within_12_mths  -> 0.0000\n",
      "delinq_amnt  -> 0.0000\n",
      "pub_rec_bankruptcies  -> 0.0007\n",
      "tax_liens  -> -0.0000\n",
      "fico_average  -> 0.0207\n",
      "home_ownership_2.0  -> -0.0000\n",
      "home_ownership_3.0  -> 0.0000\n",
      "home_ownership_4.0  -> 0.0000\n",
      "home_ownership_5.0  -> -0.0000\n",
      "home_ownership_6.0  -> 0.0008\n",
      "verification_status_2.0  -> 0.0008\n",
      "verification_status_3.0  -> 0.0039\n",
      "purpose_2.0  -> 0.0001\n",
      "purpose_3.0  -> 0.0000\n",
      "purpose_4.0  -> 0.0000\n",
      "purpose_5.0  -> -0.0003\n",
      "purpose_6.0  -> -0.0001\n",
      "purpose_7.0  -> -0.0000\n",
      "purpose_8.0  -> 0.0000\n",
      "purpose_9.0  -> -0.0000\n",
      "purpose_10.0  -> -0.0008\n",
      "purpose_11.0  -> -0.0000\n",
      "purpose_12.0  -> 0.0019\n",
      "purpose_13.0  -> -0.0000\n",
      "purpose_14.0  -> -0.0000\n",
      "new_emp_length  -> -0.0062\n"
     ]
    }
   ],
   "source": [
    "print('Lasso 모델 계수')\n",
    "print('-'*30)\n",
    "for x,y in zip(use_df.columns,model.coef_):\n",
    "  print(x,f' -> {y:.4f}',)"
   ]
  },
  {
   "cell_type": "markdown",
   "metadata": {
    "id": "YO8FlRT0aDd9"
   },
   "source": [
    "### Ridge"
   ]
  },
  {
   "cell_type": "code",
   "execution_count": 26,
   "metadata": {
    "colab": {
     "base_uri": "https://localhost:8080/"
    },
    "id": "RYxqsw31aIcR",
    "outputId": "f3ea1688-f7e7-4062-90c0-66470ef1db43"
   },
   "outputs": [
    {
     "name": "stdout",
     "output_type": "stream",
     "text": [
      "best_score: 0.9233245928501702\n",
      " best params : {'classifier': Ridge(alpha=0.1, max_iter=300), 'classifier__alpha': 0.1, 'classifier__max_iter': 300, 'preprocessing': RobustScaler()}\n"
     ]
    }
   ],
   "source": [
    "from sklearn.linear_model import Lasso,Ridge\n",
    "\n",
    "param_grid = {\n",
    "    'preprocessing': [StandardScaler(), RobustScaler(), MinMaxScaler()],\n",
    "    'classifier': [Ridge()],\n",
    "    'classifier__max_iter': [300,500,1000],\n",
    "    'classifier__alpha': [0.1, 0.01, 0.001]\n",
    "}\n",
    "\n",
    "best_model = run_grid(x_train, y_train, param_grid)\n",
    "print(f'best_score: {best_model.best_score_}\\n best params : {best_model.best_params_}')"
   ]
  },
  {
   "cell_type": "markdown",
   "metadata": {
    "id": "GSpHwu2laY1Q"
   },
   "source": [
    "학습된 파라미터로 다시 재학습"
   ]
  },
  {
   "cell_type": "code",
   "execution_count": 28,
   "metadata": {
    "id": "of-jhm1haRJq"
   },
   "outputs": [],
   "source": [
    "sc = RobustScaler()\n",
    "x_scale = sc.fit_transform(x_train)\n",
    "\n",
    "model = Ridge(alpha = 0.001,max_iter = 300)\n",
    "model.fit(x_scale,y_train)\n",
    "\n",
    "x_test_scale = sc.transform(x_test)\n",
    "y_pred_proba = model.predict(x_test_scale)\n",
    "y_pred = np.where(y_pred_proba>=0.5,1,0)"
   ]
  },
  {
   "cell_type": "markdown",
   "metadata": {
    "id": "BgZ1wY1-a4zD"
   },
   "source": [
    "그래프 확인"
   ]
  },
  {
   "cell_type": "code",
   "execution_count": 29,
   "metadata": {
    "colab": {
     "base_uri": "https://localhost:8080/",
     "height": 610
    },
    "id": "ZTItzRsybFeK",
    "outputId": "18f9f496-3c73-4280-da70-5cb3e1dd5764"
   },
   "outputs": [
    {
     "name": "stdout",
     "output_type": "stream",
     "text": [
      "오차 행렬\n"
     ]
    },
    {
     "data": {
      "image/png": "[encoded data removed]",
      "text/plain": [
       "<Figure size 432x288 with 2 Axes>"
      ]
     },
     "metadata": {
      "needs_background": "light"
     },
     "output_type": "display_data"
    },
    {
     "name": "stdout",
     "output_type": "stream",
     "text": [
      "ROC Curve\n"
     ]
    },
    {
     "data": {
      "image/png": "[encoded data removed]",
      "text/plain": [
       "<Figure size 432x288 with 1 Axes>"
      ]
     },
     "metadata": {
      "needs_background": "light"
     },
     "output_type": "display_data"
    },
    {
     "name": "stdout",
     "output_type": "stream",
     "text": [
      "정확도: 0.8774, 정밀도: 0.7139, 재현율: 0.4064, roc_auc: 0.9231\n"
     ]
    }
   ],
   "source": [
    "get_clf_eval(y_test , y_pred, y_pred_proba)"
   ]
  },
  {
   "cell_type": "markdown",
   "metadata": {
    "id": "v2Vsq6mNbHSE"
   },
   "source": [
    "계수 확인"
   ]
  },
  {
   "cell_type": "code",
   "execution_count": 30,
   "metadata": {
    "colab": {
     "base_uri": "https://localhost:8080/"
    },
    "id": "nfP066iWbK-U",
    "outputId": "e4df4777-4149-4e2a-8c4b-c8e47027b1f7"
   },
   "outputs": [
    {
     "name": "stdout",
     "output_type": "stream",
     "text": [
      "Ridge 모델 계수\n",
      "------------------------------\n",
      "loan_amnt  -> 0.0461\n",
      "annual_inc  -> -0.0014\n",
      "dti  -> 0.0222\n",
      "delinq_2yrs  -> -0.0051\n",
      "inq_last_6mths  -> 0.0053\n",
      "open_acc  -> 0.0004\n",
      "pub_rec  -> 0.0009\n",
      "revol_util  -> -0.0157\n",
      "last_fico_range_high  -> -0.2471\n",
      "last_fico_range_low  -> -0.0312\n",
      "acc_now_delinq  -> 0.0155\n",
      "tot_cur_bal  -> -0.0111\n",
      "chargeoff_within_12_mths  -> 0.0031\n",
      "delinq_amnt  -> 0.0000\n",
      "pub_rec_bankruptcies  -> 0.0040\n",
      "tax_liens  -> -0.0022\n",
      "fico_average  -> 0.0295\n",
      "home_ownership_2.0  -> 0.0071\n",
      "home_ownership_3.0  -> 0.0704\n",
      "home_ownership_4.0  -> 0.0394\n",
      "home_ownership_5.0  -> 0.0063\n",
      "home_ownership_6.0  -> 0.0098\n",
      "verification_status_2.0  -> 0.0057\n",
      "verification_status_3.0  -> 0.0126\n",
      "purpose_2.0  -> 0.0130\n",
      "purpose_3.0  -> 0.0111\n",
      "purpose_4.0  -> 0.1127\n",
      "purpose_5.0  -> 0.0062\n",
      "purpose_6.0  -> -0.0077\n",
      "purpose_7.0  -> 0.0057\n",
      "purpose_8.0  -> 0.0159\n",
      "purpose_9.0  -> 0.0045\n",
      "purpose_10.0  -> 0.0033\n",
      "purpose_11.0  -> 0.0074\n",
      "purpose_12.0  -> 0.0383\n",
      "purpose_13.0  -> 0.0015\n",
      "purpose_14.0  -> 0.0080\n",
      "new_emp_length  -> -0.0140\n"
     ]
    }
   ],
   "source": [
    "print('Ridge 모델 계수')\n",
    "print('-'*30)\n",
    "for x,y in zip(use_df.columns,model.coef_):\n",
    "  print(x,f' -> {y:.4f}',)"
   ]
  },
  {
   "cell_type": "markdown",
   "metadata": {
    "id": "Q45J7j9XbMv0"
   },
   "source": [
    "### ElasticNet"
   ]
  },
  {
   "cell_type": "code",
   "execution_count": 31,
   "metadata": {
    "colab": {
     "base_uri": "https://localhost:8080/"
    },
    "id": "htl4giPtbUUE",
    "outputId": "fc25677a-625d-4f51-bef6-995733c94a05"
   },
   "outputs": [
    {
     "name": "stdout",
     "output_type": "stream",
     "text": [
      "best_score: 0.9233492177219261\n",
      " best params : {'classifier': ElasticNet(alpha=0.01, l1_ratio=0.2, max_iter=100), 'classifier__alpha': 0.01, 'classifier__l1_ratio': 0.2, 'classifier__max_iter': 100, 'preprocessing': StandardScaler()}\n"
     ]
    }
   ],
   "source": [
    "from sklearn.linear_model import ElasticNet\n",
    "\n",
    "param_grid = {\n",
    "    'preprocessing': [StandardScaler(), RobustScaler(), MinMaxScaler()],\n",
    "    'classifier': [ElasticNet()],\n",
    "    'classifier__max_iter': [100,500,1000],\n",
    "    'classifier__l1_ratio': [0.2, 0.5],\n",
    "    'classifier__alpha': [1, 0.01, 0.1]\n",
    "}\n",
    "\n",
    "best_model = run_grid(x_train, y_train, param_grid)\n",
    "print(f'best_score: {best_model.best_score_}\\n best params : {best_model.best_params_}')"
   ]
  },
  {
   "cell_type": "markdown",
   "metadata": {
    "id": "JKBQuayXbrFe"
   },
   "source": [
    "베스트 파라미터로 재학습 "
   ]
  },
  {
   "cell_type": "code",
   "execution_count": 32,
   "metadata": {
    "id": "EkUKfMd0bUJj"
   },
   "outputs": [],
   "source": [
    "sc = StandardScaler()\n",
    "x_scale = sc.fit_transform(x_train)\n",
    "\n",
    "model = ElasticNet(alpha = 0.01,max_iter = 100,l1_ratio=0.2)\n",
    "model.fit(x_scale,y_train)\n",
    "\n",
    "x_test_scale = sc.transform(x_test)\n",
    "y_pred_proba = model.predict(x_test_scale)\n",
    "y_pred = np.where(y_pred_proba>=0.5,1,0)"
   ]
  },
  {
   "cell_type": "markdown",
   "metadata": {
    "id": "zGE0Z3XqcMQt"
   },
   "source": [
    "평가 점수 및 그래프 확인 "
   ]
  },
  {
   "cell_type": "code",
   "execution_count": 33,
   "metadata": {
    "colab": {
     "base_uri": "https://localhost:8080/",
     "height": 610
    },
    "id": "Ql5LgewCcP10",
    "outputId": "775f6714-c1a2-4007-fdd8-5b5fbc0f55d2"
   },
   "outputs": [
    {
     "name": "stdout",
     "output_type": "stream",
     "text": [
      "오차 행렬\n"
     ]
    },
    {
     "data": {
      "image/png": "[encoded data removed]",
      "text/plain": [
       "<Figure size 432x288 with 2 Axes>"
      ]
     },
     "metadata": {
      "needs_background": "light"
     },
     "output_type": "display_data"
    },
    {
     "name": "stdout",
     "output_type": "stream",
     "text": [
      "ROC Curve\n"
     ]
    },
    {
     "data": {
      "image/png": "[encoded data removed]",
      "text/plain": [
       "<Figure size 432x288 with 1 Axes>"
      ]
     },
     "metadata": {
      "needs_background": "light"
     },
     "output_type": "display_data"
    },
    {
     "name": "stdout",
     "output_type": "stream",
     "text": [
      "정확도: 0.8759, 정밀도: 0.7190, 재현율: 0.3847, roc_auc: 0.9230\n"
     ]
    }
   ],
   "source": [
    "get_clf_eval(y_test , y_pred, y_pred_proba)"
   ]
  },
  {
   "cell_type": "markdown",
   "metadata": {
    "id": "FNX1TodWcTpq"
   },
   "source": [
    "계수 확인"
   ]
  },
  {
   "cell_type": "code",
   "execution_count": 34,
   "metadata": {
    "colab": {
     "base_uri": "https://localhost:8080/"
    },
    "id": "EAwjmLtncbuV",
    "outputId": "c8ab5c11-f326-42d9-8223-04327528a4ce"
   },
   "outputs": [
    {
     "name": "stdout",
     "output_type": "stream",
     "text": [
      "ElasticNet 모델 계수\n",
      "------------------------------\n",
      "loan_amnt  -> 0.0297\n",
      "annual_inc  -> -0.0013\n",
      "dti  -> 0.0135\n",
      "delinq_2yrs  -> -0.0031\n",
      "inq_last_6mths  -> 0.0032\n",
      "open_acc  -> 0.0000\n",
      "pub_rec  -> 0.0000\n",
      "revol_util  -> -0.0088\n",
      "last_fico_range_high  -> -0.1848\n",
      "last_fico_range_low  -> -0.0408\n",
      "acc_now_delinq  -> 0.0000\n",
      "tot_cur_bal  -> -0.0082\n",
      "chargeoff_within_12_mths  -> 0.0000\n",
      "delinq_amnt  -> 0.0000\n",
      "pub_rec_bankruptcies  -> 0.0000\n",
      "tax_liens  -> -0.0000\n",
      "fico_average  -> 0.0185\n",
      "home_ownership_2.0  -> -0.0000\n",
      "home_ownership_3.0  -> 0.0000\n",
      "home_ownership_4.0  -> 0.0000\n",
      "home_ownership_5.0  -> -0.0000\n",
      "home_ownership_6.0  -> 0.0001\n",
      "verification_status_2.0  -> 0.0000\n",
      "verification_status_3.0  -> 0.0030\n",
      "purpose_2.0  -> 0.0000\n",
      "purpose_3.0  -> 0.0000\n",
      "purpose_4.0  -> 0.0000\n",
      "purpose_5.0  -> -0.0000\n",
      "purpose_6.0  -> -0.0000\n",
      "purpose_7.0  -> -0.0000\n",
      "purpose_8.0  -> 0.0000\n",
      "purpose_9.0  -> -0.0000\n",
      "purpose_10.0  -> -0.0000\n",
      "purpose_11.0  -> -0.0000\n",
      "purpose_12.0  -> 0.0011\n",
      "purpose_13.0  -> -0.0000\n",
      "purpose_14.0  -> -0.0000\n",
      "new_emp_length  -> -0.0053\n"
     ]
    }
   ],
   "source": [
    "print('ElasticNet 모델 계수')\n",
    "print('-'*30)\n",
    "for x,y in zip(use_df.columns,model.coef_):\n",
    "  print(x,f' -> {y:.4f}',)"
   ]
  },
  {
   "cell_type": "code",
   "execution_count": null,
   "metadata": {
    "id": "PhHTZ0oJdS6U"
   },
   "outputs": [],
   "source": []
  }
 ],
 "metadata": {
  "colab": {
   "provenance": [],
   "toc_visible": true
  },
  "kernelspec": {
   "display_name": "Python 3 (ipykernel)",
   "language": "python",
   "name": "python3"
  },
  "language_info": {
   "codemirror_mode": {
    "name": "ipython",
    "version": 3
   },
   "file_extension": ".py",
   "mimetype": "text/x-python",
   "name": "python",
   "nbconvert_exporter": "python",
   "pygments_lexer": "ipython3",
   "version": "3.9.11"
  }
 },
 "nbformat": 4,
 "nbformat_minor": 1
}
